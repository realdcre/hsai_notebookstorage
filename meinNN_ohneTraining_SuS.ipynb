{
 "cells": [
  {
   "cell_type": "code",
   "execution_count": 146,
   "metadata": {},
   "outputs": [
    {
     "name": "stdout",
     "output_type": "stream",
     "text": [
      "2.7.0\n"
     ]
    }
   ],
   "source": [
    "import tensorflow as tf #import tensorflow library\n",
    "from tensorflow import keras\n",
    "import matplotlib.pyplot as plt #import matplotlib library\n",
    "import scipy.special #import scipy for sigmoid function\n",
    "print(tf.__version__)\n",
    "import numpy"
   ]
  },
  {
   "cell_type": "code",
   "execution_count": 147,
   "metadata": {},
   "outputs": [],
   "source": [
    "\n",
    " #Importiere MNIST-Daten per Tensorflow/Keras \n",
    "(train_images, train_labels), (test_images, test_labels) = tf.keras.datasets.mnist.load_data(path=\"mnist.npz\")\n",
    "train_images = train_images / 255.0 \n",
    "test_images = test_images / 255.0"
   ]
  },
  {
   "cell_type": "code",
   "execution_count": 148,
   "metadata": {
    "scrolled": true
   },
   "outputs": [
    {
     "data": {
      "image/png": "[encoded data removed]",
      "text/plain": [
       "<Figure size 432x288 with 1 Axes>"
      ]
     },
     "metadata": {
      "needs_background": "light"
     },
     "output_type": "display_data"
    }
   ],
   "source": [
    "xWerte = numpy.arange(-8, 8, 0.1)\n",
    "yWerte = scipy.special.expit(xWerte)\n",
    "plt.plot(xWerte,yWerte)\n",
    "plt.grid()\n",
    "plt.show()"
   ]
  },
  {
   "cell_type": "markdown",
   "metadata": {},
   "source": [
    "# Definition der Klasse *neuralNetwork*:\n",
    "**(3. Zelle)**"
   ]
  },
  {
   "cell_type": "code",
   "execution_count": 149,
   "metadata": {},
   "outputs": [],
   "source": [
    "class neuralNetwork:\n",
    "    \n",
    "    # Initialisierung\n",
    "    def __init__(self, inputnodes, hiddennodes, outputnodes, learningrate):\n",
    "        \n",
    "        # definiere Lernrate\n",
    "        self.lr = learningrate\n",
    "    \n",
    "        # definiere Aktivierungsfunktion: Sigmoid-Funktion\n",
    "        self.activation_function = scipy.special.expit\n",
    "                \n",
    "        ############ DAS HERZ DES NETZES: ############\n",
    "        # erzeuge Matrizen mit Verknüpfungsgewichten\n",
    "        # w_i_j steht für die Verbindung von Knoten i zu Knoten j in der nächsten Schicht: w11 w21\n",
    "        #                                                                                  w12 w22 etc.\n",
    "        # Verknüpfung zwischen input und hidden layer:\n",
    "        self.wih = numpy.random.normal(0.0, pow(hiddennodes, -0.5), (hiddennodes, inputnodes))\n",
    "        #\n",
    "        # Verknüpfung zwischen hidden und output layer:\n",
    "        self.who = numpy.random.normal(0.0, pow(hiddennodes, -0.5), (outputnodes, hiddennodes))\n",
    "        ##############################################\n",
    "\n",
    "    # Abfrage an Netzwerk\n",
    "    def evaluate(self, inputs):\n",
    "        \n",
    "        # Input wird in passendes Numpy-Array umgewandelt (ohne ndmin=2 klappt später Verwendung von MNIST-Daten nicht)\n",
    "        inputs = numpy.array(inputs, ndmin=2).T\n",
    "                \n",
    "        # Berechne Signale, die in hidden layer ankommen\n",
    "        hidden_in = numpy.dot(self.wih, inputs)\n",
    "        # Berechne Signale, die (nach Anwendung der Aktivierungsfunktion) aus hidden layer rausgehen\n",
    "        hidden_out = self.activation_function(hidden_in)\n",
    "        \n",
    "        # Berechne Signale, die in output layer ankommen\n",
    "        output_in = numpy.dot(self.who, hidden_out)\n",
    "        # Berechne Signale, die (nach Anwendung der Aktivierungsfunktion) aus output layer rausgehen\n",
    "        output_out = self.activation_function(output_in)\n",
    "        \n",
    "        return output_out\n",
    "\n"
   ]
  },
  {
   "cell_type": "markdown",
   "metadata": {},
   "source": [
    "# Erstellung eines Netzes mit bestimmten Parametern:\n",
    "**(4. Zelle)**"
   ]
  },
  {
   "cell_type": "code",
   "execution_count": 150,
   "metadata": {},
   "outputs": [],
   "source": [
    "input_nodes = 784\n",
    "hidden_nodes = 100 #amount of knots in the hidden network\n",
    "output_nodes = 10\n",
    "learning_rate = 0.3\n",
    "nn = neuralNetwork(input_nodes, hidden_nodes, output_nodes, learning_rate) "
   ]
  },
  {
   "cell_type": "markdown",
   "metadata": {},
   "source": [
    "# Anwort des Netzes auf bestimmten Input:\n",
    "**(5. Zelle)**"
   ]
  },
  {
   "cell_type": "code",
   "execution_count": 151,
   "metadata": {},
   "outputs": [
    {
     "name": "stdout",
     "output_type": "stream",
     "text": [
      "5\n"
     ]
    }
   ],
   "source": [
    "\n",
    "totest = test_images[0].flatten()\n",
    "o = nn.evaluate(totest)\n",
    "output = numpy.argmax(o)\n",
    "print(output)"
   ]
  },
  {
   "cell_type": "code",
   "execution_count": 152,
   "metadata": {},
   "outputs": [
    {
     "data": {
      "text/plain": [
       "<matplotlib.image.AxesImage at 0x1adbff969a0>"
      ]
     },
     "execution_count": 152,
     "metadata": {},
     "output_type": "execute_result"
    },
    {
     "data": {
      "image/png": "[encoded data removed]",
      "text/plain": [
       "<Figure size 432x288 with 1 Axes>"
      ]
     },
     "metadata": {
      "needs_background": "light"
     },
     "output_type": "display_data"
    }
   ],
   "source": [
    "plt.imshow(test_images[0], cmap='Greys')"
   ]
  },
  {
   "cell_type": "markdown",
   "metadata": {},
   "source": [
    "# Trefferquote des Netzes:\n",
    "**(6. Zelle)**"
   ]
  },
  {
   "cell_type": "code",
   "execution_count": 153,
   "metadata": {},
   "outputs": [],
   "source": [
    "# bitte frei lassen für späteres Arbeitsblatt"
   ]
  },
  {
   "cell_type": "markdown",
   "metadata": {},
   "source": [
    "# Training des Netzes:\n",
    "**(7. Zelle)**"
   ]
  },
  {
   "cell_type": "code",
   "execution_count": 154,
   "metadata": {},
   "outputs": [],
   "source": [
    "# bitte frei lassen für späteres Arbeitsblatt"
   ]
  },
  {
   "cell_type": "code",
   "execution_count": null,
   "metadata": {},
   "outputs": [],
   "source": []
  },
  {
   "cell_type": "code",
   "execution_count": null,
   "metadata": {},
   "outputs": [],
   "source": []
  }
 ],
 "metadata": {
  "kernelspec": {
   "display_name": "Python 3 (ipykernel)",
   "language": "python",
   "name": "python3"
  },
  "language_info": {
   "codemirror_mode": {
    "name": "ipython",
    "version": 3
   },
   "file_extension": ".py",
   "mimetype": "text/x-python",
   "name": "python",
   "nbconvert_exporter": "python",
   "pygments_lexer": "ipython3",
   "version": "3.9.7"
  }
 },
 "nbformat": 4,
 "nbformat_minor": 4
}
