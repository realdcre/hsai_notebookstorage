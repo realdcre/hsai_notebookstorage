{
 "cells": [
  {
   "cell_type": "code",
   "execution_count": 22,
   "id": "3bc6b364",
   "metadata": {
    "scrolled": true
   },
   "outputs": [],
   "source": [
    "import numpy\n",
    "matrix1 = numpy.array([[2,0,-3],[1,4,0],])\n",
    "matrix2 = numpy.array([[1,2],[2,1],[1,2],])"
   ]
  },
  {
   "cell_type": "code",
   "execution_count": 23,
   "id": "0780c6f7",
   "metadata": {},
   "outputs": [
    {
     "name": "stdout",
     "output_type": "stream",
     "text": [
      "[[ 2  0 -3]\n",
      " [ 1  4  0]]\n",
      "[[1 2]\n",
      " [2 1]\n",
      " [1 2]]\n"
     ]
    }
   ],
   "source": [
    "print(matrix1)\n",
    "print(matrix2)\n"
   ]
  },
  {
   "cell_type": "code",
   "execution_count": 25,
   "id": "d36266b9",
   "metadata": {},
   "outputs": [
    {
     "name": "stdout",
     "output_type": "stream",
     "text": [
      "[[-1 -2]\n",
      " [ 9  6]]\n"
     ]
    }
   ],
   "source": [
    "result = numpy.dot(matrix1,matrix2)\n",
    "\n",
    "print(result)"
   ]
  },
  {
   "cell_type": "code",
   "execution_count": 26,
   "id": "2db70d5c",
   "metadata": {},
   "outputs": [
    {
     "name": "stdout",
     "output_type": "stream",
     "text": [
      "4\n"
     ]
    }
   ],
   "source": [
    "hello = numpy.argmax(matrix1)\n",
    "print(hello)"
   ]
  },
  {
   "cell_type": "code",
   "execution_count": null,
   "id": "44011ce5",
   "metadata": {},
   "outputs": [],
   "source": []
  }
 ],
 "metadata": {
  "kernelspec": {
   "display_name": "Python 3 (ipykernel)",
   "language": "python",
   "name": "python3"
  },
  "language_info": {
   "codemirror_mode": {
    "name": "ipython",
    "version": 3
   },
   "file_extension": ".py",
   "mimetype": "text/x-python",
   "name": "python",
   "nbconvert_exporter": "python",
   "pygments_lexer": "ipython3",
   "version": "3.9.7"
  }
 },
 "nbformat": 4,
 "nbformat_minor": 5
}
