{
 "cells": [
  {
   "cell_type": "code",
   "execution_count": 20,
   "id": "41c24b69",
   "metadata": {},
   "outputs": [],
   "source": [
    "import numpy\n",
    "matrix1 = numpy.array([[3,5,7,0,-3,-5],[2,4,6,8,-2,-4],])\n",
    "matrix2 = numpy.array([[11,10,22,20],[1,2,3,4],[9,8,7,6],])\n",
    "matrix3 = numpy.array([[1,1,0],[2,2,0],[3,3,3],[-4,4,4],[5,6,7],[2,4,8],])"
   ]
  },
  {
   "cell_type": "code",
   "execution_count": 21,
   "id": "2ae6cb45",
   "metadata": {},
   "outputs": [],
   "source": [
    "result = numpy.dot(matrix1,matrix3)\n",
    "insult = numpy.dot(matrix3,matrix2)\n"
   ]
  },
  {
   "cell_type": "code",
   "execution_count": 22,
   "id": "584ff1c6",
   "metadata": {},
   "outputs": [
    {
     "name": "stdout",
     "output_type": "stream",
     "text": [
      "[[  9  -4 -40]\n",
      " [-22  32   4]]\n",
      "[[ 12  12  25  24]\n",
      " [ 24  24  50  48]\n",
      " [ 63  60  96  90]\n",
      " [ -4   0 -48 -40]\n",
      " [124 118 177 166]\n",
      " [ 98  92 112 104]]\n"
     ]
    }
   ],
   "source": [
    "print(result)\n",
    "print(insult)\n"
   ]
  },
  {
   "cell_type": "code",
   "execution_count": null,
   "id": "fd20ac2e",
   "metadata": {},
   "outputs": [],
   "source": []
  }
 ],
 "metadata": {
  "kernelspec": {
   "display_name": "Python 3 (ipykernel)",
   "language": "python",
   "name": "python3"
  },
  "language_info": {
   "codemirror_mode": {
    "name": "ipython",
    "version": 3
   },
   "file_extension": ".py",
   "mimetype": "text/x-python",
   "name": "python",
   "nbconvert_exporter": "python",
   "pygments_lexer": "ipython3",
   "version": "3.9.7"
  }
 },
 "nbformat": 4,
 "nbformat_minor": 5
}
